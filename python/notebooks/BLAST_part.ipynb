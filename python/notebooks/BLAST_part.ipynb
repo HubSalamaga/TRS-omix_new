{
 "cells": [
  {
   "cell_type": "code",
   "execution_count": null,
   "metadata": {},
   "outputs": [],
   "source": [
    "import cffi\n",
    "import os\n",
    "import numpy as np\n",
    "import pandas as pd\n",
    "from io import StringIO\n",
    "from enum import Enum\n",
    "from Bio import SeqIO\n",
    "from Bio import Entrez\n",
    "from pathlib import Path\n",
    "import matplotlib.pyplot as plt\n",
    "from multiprocessing import Pool\n",
    "import glob\n",
    "import re\n",
    "import fnmatch"
   ]
  }
 ],
 "metadata": {
  "language_info": {
   "name": "python"
  }
 },
 "nbformat": 4,
 "nbformat_minor": 2
}
