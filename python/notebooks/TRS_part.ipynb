{
 "cells": [
  {
   "cell_type": "code",
   "execution_count": null,
   "metadata": {},
   "outputs": [],
   "source": [
    "import os\n",
    "import numpy as np\n",
    "import pandas as pd\n",
    "from Bio import SeqIO\n",
    "from Bio import Entrez\n",
    "import time\n",
    "import argparse\n",
    "import sys"
   ]
  },
  {
   "cell_type": "code",
   "execution_count": null,
   "metadata": {},
   "outputs": [],
   "source": [
    "\n"
   ]
  },
  {
   "cell_type": "code",
   "execution_count": null,
   "metadata": {},
   "outputs": [],
   "source": [
    "def check_mode(value):\n",
    "    ivalue = int(value)\n",
    "    if ivalue < 0 or ivalue > 1:\n",
    "        raise argparse.ArgumentTypeError(f\"Mode must be 0 or 1, got {value}\")\n",
    "    return ivalue\n",
    "\n",
    "def main():\n",
    "    start_time = time.time()\n",
    "    parser = argparse.ArgumentParser(description='''This program extract TRS sequences from series of input genomes,\n",
    "                                     allows for length selection of extracted fragments and prepares sequences for further analysis ''')\n",
    "    parser.add_argument('--input_fasta_folder_path', help=\"Path to a folder containing genomes in fasta format from which TRS sequences will be extracted\", required=True)\n",
    "    parser.add_argument('--tmin', help=\"\",required=True, type= int)\n",
    "    parser.add_argument('--tmax', help=\"\", required=True, type=int,)\n",
    "    parser.add_argument('--mode', help=\"\", required=True,type=check_mode)\n",
    "    args = parser.parse_args()\n",
    "    input_fasta_folder_path = args.input_fasta_folder_path\n",
    "    tmin = args.tmin\n",
    "    tmax = args.tmax\n",
    "    mode = args.mode\n",
    "    \n",
    "    if os.path.exists(input_fasta_folder_path):\n",
    "        print(\"Existing directory provided. Proceeding....\")\n",
    "        # Check for fasta files in the directory\n",
    "        fasta_files = [f for f in os.listdir(input_fasta_folder_path) if f.endswith('.fasta') or f.endswith('.fa')]\n",
    "        if not fasta_files:\n",
    "            print(\"No fasta files found in the provided directory. Quitting...\")\n",
    "            sys.exit(1)\n",
    "    else:\n",
    "        print(\"Provided directory path does not exist. Quitting...\")\n",
    "        sys.exit(1)\n",
    "    input_fasta_folder_path_name = os.path.basename(input_fasta_folder_path)\n",
    "    results_directory = os.path.join(os.getcwd(),f\"{input_fasta_folder_path_name}_results\")\n",
    "    results_file_path = os.path.join(os.getcwd(), results_directory)\n",
    "\n",
    "\n",
    "if __name__ == \"__main__\":\n",
    "    main()\n"
   ]
  }
 ],
 "metadata": {
  "kernelspec": {
   "display_name": "TRS",
   "language": "python",
   "name": "python3"
  },
  "language_info": {
   "name": "python",
   "version": "3.6.13"
  }
 },
 "nbformat": 4,
 "nbformat_minor": 2
}
